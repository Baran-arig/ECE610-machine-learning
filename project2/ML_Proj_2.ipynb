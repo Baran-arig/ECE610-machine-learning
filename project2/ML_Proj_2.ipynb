{
  "cells": [
    {
      "cell_type": "code",
      "execution_count": 5,
      "metadata": {
        "colab": {
          "base_uri": "https://localhost:8080/",
          "height": 1000
        },
        "id": "CXwUBguaod5J",
        "outputId": "7425497b-53aa-481a-887d-96c7e1f3ecbc"
      },
      "outputs": [
        {
          "name": "stdout",
          "output_type": "stream",
          "text": [
            "Model: \"sequential_3\"\n",
            "_________________________________________________________________\n",
            " Layer (type)                Output Shape              Param #   \n",
            "=================================================================\n",
            " conv2d_9 (Conv2D)           (None, 30, 30, 34)        952       \n",
            "                                                                 \n",
            " max_pooling2d_6 (MaxPooling  (None, 15, 15, 34)       0         \n",
            " 2D)                                                             \n",
            "                                                                 \n",
            " conv2d_10 (Conv2D)          (None, 13, 13, 55)        16885     \n",
            "                                                                 \n",
            " max_pooling2d_7 (MaxPooling  (None, 6, 6, 55)         0         \n",
            " 2D)                                                             \n",
            "                                                                 \n",
            " conv2d_11 (Conv2D)          (None, 4, 4, 58)          28768     \n",
            "                                                                 \n",
            " flatten_3 (Flatten)         (None, 928)               0         \n",
            "                                                                 \n",
            " dense_6 (Dense)             (None, 56)                52024     \n",
            "                                                                 \n",
            " dense_7 (Dense)             (None, 11)                627       \n",
            "                                                                 \n",
            "=================================================================\n",
            "Total params: 99,256\n",
            "Trainable params: 99,256\n",
            "Non-trainable params: 0\n",
            "_________________________________________________________________\n",
            "Epoch 1/10\n",
            "1407/1407 [==============================] - 47s 33ms/step - loss: 1.6088 - accuracy: 0.4084 - val_loss: 1.2897 - val_accuracy: 0.5386\n",
            "Epoch 2/10\n",
            "1407/1407 [==============================] - 48s 34ms/step - loss: 1.2375 - accuracy: 0.5596 - val_loss: 1.1460 - val_accuracy: 0.5846\n",
            "Epoch 3/10\n",
            "1407/1407 [==============================] - 45s 32ms/step - loss: 1.0883 - accuracy: 0.6141 - val_loss: 1.0670 - val_accuracy: 0.6268\n",
            "Epoch 4/10\n",
            "1407/1407 [==============================] - 45s 32ms/step - loss: 0.9927 - accuracy: 0.6529 - val_loss: 0.9622 - val_accuracy: 0.6528\n",
            "Epoch 5/10\n",
            "1407/1407 [==============================] - 46s 32ms/step - loss: 0.9136 - accuracy: 0.6805 - val_loss: 0.8568 - val_accuracy: 0.7018\n",
            "Epoch 6/10\n",
            "1407/1407 [==============================] - 46s 32ms/step - loss: 0.8643 - accuracy: 0.6986 - val_loss: 0.7826 - val_accuracy: 0.7190\n",
            "Epoch 7/10\n",
            "1407/1407 [==============================] - 45s 32ms/step - loss: 0.8156 - accuracy: 0.7157 - val_loss: 0.7246 - val_accuracy: 0.7380\n",
            "Epoch 8/10\n",
            "1407/1407 [==============================] - 46s 33ms/step - loss: 0.7773 - accuracy: 0.7270 - val_loss: 0.6978 - val_accuracy: 0.7502\n",
            "Epoch 9/10\n",
            "1407/1407 [==============================] - 45s 32ms/step - loss: 0.7417 - accuracy: 0.7376 - val_loss: 0.6747 - val_accuracy: 0.7582\n",
            "Epoch 10/10\n",
            "1407/1407 [==============================] - 45s 32ms/step - loss: 0.7079 - accuracy: 0.7507 - val_loss: 0.6634 - val_accuracy: 0.7594\n",
            "313/313 [==============================] - 3s 10ms/step - loss: 0.9109 - accuracy: 0.6908\n",
            "Test accuracy: 0.6908000111579895\n"
          ]
        },
        {
          "data": {
            "image/png": "[encoded data removed]",
            "text/plain": [
              "<Figure size 432x288 with 1 Axes>"
            ]
          },
          "metadata": {
            "needs_background": "light"
          },
          "output_type": "display_data"
        }
      ],
      "source": [
        "import tensorflow as tf\n",
        "from tensorflow import keras\n",
        "import matplotlib.pyplot as plt\n",
        "\n",
        "\n",
        "import matplotlib.pyplot as plt\n",
        "\n",
        "# Load CIFAR-10 dataset\n",
        "(train_images, train_labels), (test_images, test_labels) = keras.datasets.cifar10.load_data()\n",
        "\n",
        "# Normalize pixel values to range [0, 1]\n",
        "train_images = train_images.astype('float32') / 255.0\n",
        "test_images = test_images.astype('float32') / 255.0\n",
        "\n",
        "# Split training set into training and validation sets\n",
        "train_images = train_images[5000:]\n",
        "train_labels = train_labels[5000:]\n",
        "val_images = train_images[:5000]\n",
        "val_labels = train_labels[:5000]\n",
        "\n",
        "\n",
        "# Define CNN model\n",
        "model = keras.models.Sequential([\n",
        "    keras.layers.Conv2D(34, (3,3), activation='relu', input_shape=(32,32,3)),\n",
        "    keras.layers.MaxPooling2D((2,2)),\n",
        "    keras.layers.Conv2D(55, (3,3), activation='relu'),\n",
        "    keras.layers.MaxPooling2D((2,2)),\n",
        "    keras.layers.Conv2D(58, (3,3), activation='relu'),\n",
        "    keras.layers.Flatten(),\n",
        "    keras.layers.Dense(56, activation='relu'),\n",
        "    keras.layers.Dense(11, activation='softmax')\n",
        "])\n",
        "\n",
        "model.summary()\n",
        "\n",
        "# Compile model\n",
        "model.compile(optimizer=keras.optimizers.Adam(learning_rate=0.001),\n",
        "              loss='sparse_categorical_crossentropy',\n",
        "              metrics=['accuracy'])\n",
        "\n",
        "# Train model with learning curves\n",
        "history = model.fit(train_images, train_labels, epochs=10,\n",
        "                    validation_data=(val_images, val_labels))\n",
        "\n",
        "# Evaluate model on test set\n",
        "test_loss, test_acc = model.evaluate(test_images, test_labels)\n",
        "print('Test accuracy:', test_acc)\n",
        "\n",
        "\n",
        "plt.plot(history.history[\"loss\"], label=\"training loss\")\n",
        "plt.plot(history.history[\"val_loss\"], label=\"validation loss\")\n",
        "plt.legend()\n",
        "plt.show()"
      ]
    }
  ],
  "metadata": {
    "colab": {
      "provenance": []
    },
    "kernelspec": {
      "display_name": "Python 3",
      "name": "python3"
    },
    "language_info": {
      "name": "python"
    }
  },
  "nbformat": 4,
  "nbformat_minor": 0
}
