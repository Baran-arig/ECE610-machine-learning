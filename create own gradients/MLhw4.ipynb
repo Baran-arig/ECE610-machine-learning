{
  "cells": [
    {
      "cell_type": "markdown",
      "metadata": {
        "id": "ENuNgSZp_IlL"
      },
      "source": [
        "Given Code"
      ]
    },
    {
      "cell_type": "code",
      "execution_count": null,
      "metadata": {
        "colab": {
          "base_uri": "https://localhost:8080/",
          "height": 291
        },
        "id": "_Qad8b8g94Wp",
        "outputId": "ed487979-7223-4836-90db-a0d62fb45ccd"
      },
      "outputs": [
        {
          "data": {
            "image/png": "[encoded data removed]",
            "text/plain": [
              "<Figure size 432x288 with 1 Axes>"
            ]
          },
          "metadata": {
            "needs_background": "light"
          },
          "output_type": "display_data"
        }
      ],
      "source": [
        "import numpy as np\n",
        "import numpy.random as rnd\n",
        "import matplotlib.pyplot as plt\n",
        "np.random.seed(42)\n",
        "m = 100\n",
        "X = 6 * np.random.rand(m, 1) - 3\n",
        "y = 0.5 * X**2 + X + 2 + np.random.randn(m, 1)\n",
        "plt.plot(X, y, \"b.\")\n",
        "plt.xlabel(\"$x_1$\", fontsize=18)\n",
        "plt.ylabel(\"$y$\", rotation=0, fontsize=18)\n",
        "plt.axis([-3, 3, 0, 10])\n",
        "plt.show()"
      ]
    },
    {
      "cell_type": "markdown",
      "metadata": {
        "id": "2atGp-bj_N9x"
      },
      "source": [
        "Batch Gradient"
      ]
    },
    {
      "cell_type": "code",
      "execution_count": null,
      "metadata": {
        "colab": {
          "base_uri": "https://localhost:8080/",
          "height": 344
        },
        "id": "ryU2pkMo95dn",
        "outputId": "b55bb3a3-053e-4e3f-d5d3-35466606a875"
      },
      "outputs": [
        {
          "name": "stdout",
          "output_type": "stream",
          "text": [
            "Converged at iteration:  450\n",
            "theta0 = [1.60815603] theta1 = [0.93517143] theta2 = [0.59734001]\n"
          ]
        },
        {
          "data": {
            "image/png": "[encoded data removed]",
            "text/plain": [
              "<Figure size 432x288 with 1 Axes>"
            ]
          },
          "metadata": {
            "needs_background": "light"
          },
          "output_type": "display_data"
        }
      ],
      "source": [
        "def gradient_descent(alpha, x, y , endpoint=0.0001, max_iterations=10000):\n",
        "  converged= False\n",
        "  iter = 0\n",
        "\n",
        "  # initialize the thetas\n",
        "  t0 = np.random.random(x.shape[1])\n",
        "  t1 = np.random.random(x.shape[1])\n",
        "  t2 = np.random.random(x.shape[1])\n",
        "\n",
        "  # total error, J(theta)\n",
        "  Jt = sum([(t0 + t1*x[i] + t2*x[i]**2 - y[i])**2 for i in range(m)])\n",
        "\n",
        "  # Iterate Loop\n",
        "  while not converged:\n",
        "\n",
        "    # for each training sample, compute the gradient\n",
        "    gradeintO = 1/m * sum([(t0 + t1*x[i] + t2*x[i]**2 - y[i]) for i in range(m)])\n",
        "    gradient1 = 1/m * sum([(t0 + t1*x[i] + t2*x[i]**2 - y[i])*x[i] for i in range(m)])\n",
        "    gradient2 = 1/m * sum([(t0 + t1*x[i] + t2*x[i]**2 - y[i])*x[i]**2 for i in range(m)])\n",
        "\n",
        "    # update the temp thetas\n",
        "    temp0 = t0 - alpha* gradeintO\n",
        "    temp1 = t1 - alpha* gradient1\n",
        "    temp2 = t2 - alpha* gradient2\n",
        "\n",
        "    # update thetas\n",
        "    t0 = temp0\n",
        "    t1 = temp1\n",
        "    t2 = temp2\n",
        "\n",
        "    # mse\n",
        "    error = sum([(t0 + t1*x[i] + t2*x[i]**2 - y[i])**2 for i in range(m)] )\n",
        "\n",
        "    if abs(Jt-error) <= endpoint:\n",
        "      print ('Converged at iteration: ', iter)\n",
        "      converged = True\n",
        "\n",
        "    Jt = error # update error\n",
        "    iter += 1 # update iterations\n",
        "\n",
        "    if iter == max_iterations:\n",
        "      print ( 'Exceeded max iterations')\n",
        "      converged= True\n",
        "\n",
        "  return t0, t1, t2\n",
        "\n",
        "\n",
        "if __name__ == '__main__':\n",
        "\n",
        "  alpha = 0.01 #learning rate\n",
        "  endpoint = 0.01 # convergence criteria\n",
        "\n",
        "  #call fxn and get the intercept (theta0) slope(theta1) and quadratic term(theta2)\n",
        "  theta0, theta1, theta2 = gradient_descent(alpha, X, y, endpoint, max_iterations=1000)\n",
        "  print ('theta0 = %s theta1 = %s theta2 = %s' %(theta0, theta1, theta2))\n",
        "\n",
        "  #create plot\n",
        "  for i in range(X.shape[0]):\n",
        "    y_predict = theta0 + theta1*X + theta2*X**2\n",
        "\n",
        "  plt.plot(X,y,\"b.\")\n",
        "  plt.plot(X,y_predict,'r.')\n",
        "  plt.title('Batch Gradient')\n",
        "  plt.xlabel(\"$x_l$\", fontsize=24)\n",
        "  plt.ylabel(\"$y$\", rotation =0, fontsize=24)\n",
        "  plt.show()\n",
        "\n"
      ]
    },
    {
      "cell_type": "markdown",
      "metadata": {
        "id": "bqu3qSplHce_"
      },
      "source": [
        "stochastic"
      ]
    },
    {
      "cell_type": "code",
      "execution_count": null,
      "metadata": {
        "colab": {
          "base_uri": "https://localhost:8080/",
          "height": 344
        },
        "id": "yEtEGyK3Ha_Z",
        "outputId": "a94efe49-0f97-403d-fc08-d106a489cb87"
      },
      "outputs": [
        {
          "name": "stdout",
          "output_type": "stream",
          "text": [
            "Converged at iteration: <built-in function iter>\n",
            "theta0 = [1.7797678] theta1 = [1.0266975] theta2 = [0.63266948]\n"
          ]
        },
        {
          "data": {
            "image/png": "[encoded data removed]",
            "text/plain": [
              "<Figure size 432x288 with 1 Axes>"
            ]
          },
          "metadata": {
            "needs_background": "light"
          },
          "output_type": "display_data"
        }
      ],
      "source": [
        "def s_gradient_descent(alpha,x,y,endpoint=0.0001, max_iterations=10000):\n",
        "  converged = False\n",
        "  iteration = 0\n",
        "\n",
        "  #initialize thetas\n",
        "  t0 = np.random.random(x.shape[1])\n",
        "  t1 = np.random.random(x.shape[1])\n",
        "  t2 = np.random.random(x.shape[1])\n",
        "\n",
        "  #determine error\n",
        "  Jt = sum([(t0 + t1*x[i] + t2*x[i]**2 - y[i])**2 for i in range(m)])\n",
        "\n",
        "  #iterate through the loop\n",
        "  while not converged:\n",
        "\n",
        "    for i in range(m):\n",
        "\n",
        "      #update thetas\n",
        "      t0 -= alpha * (t0 + t1*x[i] + t2*x[i]**2 - y[i])\n",
        "      t1 -= alpha * (t0 + t1*x[i] + t2*x[i]**2 - y[i])*x[i]\n",
        "      t2 -= alpha * (t0 + t1*x[i] + t2*x[i]**2 - y[i])*x[i]**2\n",
        "\n",
        "      #mse\n",
        "      error = sum([(t0 + t1*x[i] + t2*x[i]**2 -y[i])**2 for i in range(m)])\n",
        "\n",
        "    if abs(Jt-error) <= endpoint:\n",
        "      print('Converged at iteration:' , iter)\n",
        "      converged = True\n",
        "\n",
        "    Jt = error\n",
        "    iteration += 1\n",
        "\n",
        "    if iter == max_iterations:\n",
        "      print('Max iterations exceeded')\n",
        "      converged = True\n",
        "  return t0, t1, t2\n",
        "\n",
        "if __name__ == '__main__':\n",
        "\n",
        "  alpha = 0.01 #learning rate\n",
        "  endpoint = 0.01 # convergence criteria\n",
        "\n",
        "  #call fxn and get the intercept (theta0) slope(theta1) and quadratic term(theta2)\n",
        "  theta0, theta1, theta2 = s_gradient_descent(alpha, X, y, endpoint, max_iterations=1000)\n",
        "  print ('theta0 = %s theta1 = %s theta2 = %s' %(theta0, theta1, theta2))\n",
        "\n",
        "  #create plot\n",
        "  for i in range(X.shape[0]):\n",
        "    y_predict = theta0 + theta1*X + theta2*X**2\n",
        "\n",
        "  plt.plot(X,y,\"r.\")\n",
        "  plt.plot(X,y_predict,'k.')\n",
        "  plt.title('Stochastic Gradient')\n",
        "  plt.xlabel(\"$x_l$\", fontsize=24)\n",
        "  plt.ylabel(\"$y$\", rotation =0, fontsize=20)\n",
        "  plt.show()\n",
        "\n"
      ]
    }
  ],
  "metadata": {
    "colab": {
      "provenance": []
    },
    "kernelspec": {
      "display_name": "Python 3",
      "name": "python3"
    },
    "language_info": {
      "name": "python"
    }
  },
  "nbformat": 4,
  "nbformat_minor": 0
}
